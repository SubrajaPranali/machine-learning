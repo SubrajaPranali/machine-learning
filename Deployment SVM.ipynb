{
 "cells": [
  {
   "cell_type": "code",
   "execution_count": 1,
   "id": "314af208-9f3e-4b93-a66a-cd9f30eb2c06",
   "metadata": {},
   "outputs": [],
   "source": [
    "import pickle"
   ]
  },
  {
   "cell_type": "code",
   "execution_count": 3,
   "id": "0f701d17-04b3-4a05-b816-2e382bc37596",
   "metadata": {},
   "outputs": [],
   "source": [
    "loaded_model=pickle.load(open(\"finalized_svm_linear.sav\",'rb'))\n",
    "result=loaded_model.predict([[10,20,30]])"
   ]
  },
  {
   "cell_type": "code",
   "execution_count": 4,
   "id": "593e37f8-0089-4c36-9434-a10c2f0656b3",
   "metadata": {},
   "outputs": [
    {
     "data": {
      "text/plain": [
       "array([714684.43311015])"
      ]
     },
     "execution_count": 4,
     "metadata": {},
     "output_type": "execute_result"
    }
   ],
   "source": [
    "result"
   ]
  },
  {
   "cell_type": "code",
   "execution_count": null,
   "id": "bf2ac3bc-08d8-41f2-a63f-77f596d38a75",
   "metadata": {},
   "outputs": [],
   "source": []
  }
 ],
 "metadata": {
  "kernelspec": {
   "display_name": "Python 3 (ipykernel)",
   "language": "python",
   "name": "python3"
  },
  "language_info": {
   "codemirror_mode": {
    "name": "ipython",
    "version": 3
   },
   "file_extension": ".py",
   "mimetype": "text/x-python",
   "name": "python",
   "nbconvert_exporter": "python",
   "pygments_lexer": "ipython3",
   "version": "3.12.4"
  }
 },
 "nbformat": 4,
 "nbformat_minor": 5
}
